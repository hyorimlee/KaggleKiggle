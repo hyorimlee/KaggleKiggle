{
  "nbformat": 4,
  "nbformat_minor": 0,
  "metadata": {
    "colab": {
      "name": "colab_korean_font_setting.ipynb",
      "provenance": [],
      "collapsed_sections": [],
      "authorship_tag": "ABX9TyMfTn1aUHqAPpf/lv6mZrkI"
    },
    "kernelspec": {
      "name": "python3",
      "display_name": "Python 3"
    },
    "language_info": {
      "name": "python"
    }
  },
  "cells": [
    {
      "cell_type": "code",
      "metadata": {
        "id": "jwGTtTBtir5Z"
      },
      "source": [
        "%matplotlib inline  \n",
        "\n",
        "import matplotlib.pyplot as plt\n",
        "import matplotlib.font_manager as fm\n",
        "\n",
        "!apt-get update -qq\n",
        "!apt-get install fonts-nanum* -qq\n",
        "\n",
        "plt.rc('font', family='NanumGothic')\n",
        "# 이후, 런타임-런타임 다시시작 실행(Ctrl+M .)"
      ],
      "execution_count": 1,
      "outputs": []
    },
    {
      "cell_type": "code",
      "metadata": {
        "id": "qJsbTpO9i67z"
      },
      "source": [
        "import matplotlib.pyplot as plt\n",
        "plt.text(0.3, 0.3, '한글', size=100) # 한글 출력 확인"
      ],
      "execution_count": 4,
      "outputs": []
    }
  ]
}