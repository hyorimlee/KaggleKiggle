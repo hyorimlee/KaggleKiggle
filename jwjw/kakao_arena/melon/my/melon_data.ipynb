{
  "nbformat": 4,
  "nbformat_minor": 0,
  "metadata": {
    "colab": {
      "name": "melon_data.ipynb",
      "provenance": [],
      "collapsed_sections": [],
      "mount_file_id": "131OCvNQEYihIwmtxwEYF6uqcpVi16dt6",
      "authorship_tag": "ABX9TyOnZxkBgEH52rEaSmlUVOsO"
    },
    "kernelspec": {
      "display_name": "Python 3",
      "name": "python3"
    },
    "language_info": {
      "name": "python"
    }
  },
  "cells": [
    {
      "cell_type": "code",
      "metadata": {
        "id": "kgdLVay9NpbL"
      },
      "source": [
        "import numpy as np\n",
        "import pandas as pd\n",
        "import seaborn as sns\n",
        "import matplotlib.pyplot as plt\n",
        "\n",
        "%matplotlib inline\n",
        "# 구 버전 jupyter에서의 그래프 시각화\n",
        "\n",
        "plt.rc('font',family='NanumGothic')\n",
        "\n",
        "plt.rc(\"axes\",unicode_minus=False)\n",
        "# 마이너스 폰트 깨짐 방지\n",
        "\n",
        "%config InlineBackend.figure_format = 'retina'\n",
        "# 폰트를 선명하게"
      ],
      "execution_count": 10,
      "outputs": []
    },
    {
      "cell_type": "code",
      "metadata": {
        "id": "358SzTwb6xE9"
      },
      "source": [
        "default_path = \"drive/MyDrive/Colab Notebooks/\""
      ],
      "execution_count": 11,
      "outputs": []
    },
    {
      "cell_type": "markdown",
      "metadata": {
        "id": "u_TdUYfQ6tRp"
      },
      "source": [
        "---\n",
        "genre_gn_all.json"
      ]
    },
    {
      "cell_type": "code",
      "metadata": {
        "id": "hyi-VV2jN8w3"
      },
      "source": [
        "genre_gn_all = pd.read_json(default_path+'genre_gn_all.json',typ='series')"
      ],
      "execution_count": 58,
      "outputs": []
    },
    {
      "cell_type": "code",
      "metadata": {
        "id": "KLCez18ZN9ae"
      },
      "source": [
        "# make genre_gn_all as data frame with code, name columns\n",
        "genre_gn_all = pd.DataFrame(genre_gn_all, columns = ['gnr_name']).reset_index().rename(columns={'index' : 'gnr_code'})"
      ],
      "execution_count": 64,
      "outputs": []
    },
    {
      "cell_type": "code",
      "metadata": {
        "colab": {
          "base_uri": "https://localhost:8080/",
          "height": 80
        },
        "collapsed": true,
        "id": "Mt15q_xHOZi_",
        "outputId": "3f0f8bd2-8be2-48fc-be89-7d43364b33ae"
      },
      "source": [
        "# 254 categories\n",
        "genre_gn_all.sample()"
      ],
      "execution_count": 65,
      "outputs": [
        {
          "output_type": "execute_result",
          "data": {
            "text/html": [
              "<div>\n",
              "<style scoped>\n",
              "    .dataframe tbody tr th:only-of-type {\n",
              "        vertical-align: middle;\n",
              "    }\n",
              "\n",
              "    .dataframe tbody tr th {\n",
              "        vertical-align: top;\n",
              "    }\n",
              "\n",
              "    .dataframe thead th {\n",
              "        text-align: right;\n",
              "    }\n",
              "</style>\n",
              "<table border=\"1\" class=\"dataframe\">\n",
              "  <thead>\n",
              "    <tr style=\"text-align: right;\">\n",
              "      <th></th>\n",
              "      <th>gnr_code</th>\n",
              "      <th>gnr_name</th>\n",
              "    </tr>\n",
              "  </thead>\n",
              "  <tbody>\n",
              "    <tr>\n",
              "      <th>18</th>\n",
              "      <td>GN0400</td>\n",
              "      <td>R&amp;B/Soul</td>\n",
              "    </tr>\n",
              "  </tbody>\n",
              "</table>\n",
              "</div>"
            ],
            "text/plain": [
              "   gnr_code  gnr_name\n",
              "18   GN0400  R&B/Soul"
            ]
          },
          "metadata": {
            "tags": []
          },
          "execution_count": 65
        }
      ]
    },
    {
      "cell_type": "code",
      "metadata": {
        "id": "-82YMsR_OqPH"
      },
      "source": [
        "# filter tail of code is '00', which is a big category\n",
        "gnr_code = genre_gn_all[genre_gn_all['gnr_code'].str[-2:] == '00']"
      ],
      "execution_count": 15,
      "outputs": []
    },
    {
      "cell_type": "code",
      "metadata": {
        "colab": {
          "base_uri": "https://localhost:8080/",
          "height": 80
        },
        "id": "BEBgyzivPAf-",
        "outputId": "6602811b-4262-450f-c6c5-288c15afc647"
      },
      "source": [
        "# 30 big categories\n",
        "gnr_code.sample()"
      ],
      "execution_count": 61,
      "outputs": [
        {
          "output_type": "execute_result",
          "data": {
            "text/html": [
              "<div>\n",
              "<style scoped>\n",
              "    .dataframe tbody tr th:only-of-type {\n",
              "        vertical-align: middle;\n",
              "    }\n",
              "\n",
              "    .dataframe tbody tr th {\n",
              "        vertical-align: top;\n",
              "    }\n",
              "\n",
              "    .dataframe thead th {\n",
              "        text-align: right;\n",
              "    }\n",
              "</style>\n",
              "<table border=\"1\" class=\"dataframe\">\n",
              "  <thead>\n",
              "    <tr style=\"text-align: right;\">\n",
              "      <th></th>\n",
              "      <th>gnr_code</th>\n",
              "      <th>gnr_name</th>\n",
              "      <th>join_code</th>\n",
              "    </tr>\n",
              "  </thead>\n",
              "  <tbody>\n",
              "    <tr>\n",
              "      <th>56</th>\n",
              "      <td>GN0900</td>\n",
              "      <td>POP</td>\n",
              "      <td>GN09</td>\n",
              "    </tr>\n",
              "  </tbody>\n",
              "</table>\n",
              "</div>"
            ],
            "text/plain": [
              "   gnr_code gnr_name join_code\n",
              "56   GN0900      POP      GN09"
            ]
          },
          "metadata": {
            "tags": []
          },
          "execution_count": 61
        }
      ]
    },
    {
      "cell_type": "code",
      "metadata": {
        "colab": {
          "base_uri": "https://localhost:8080/"
        },
        "id": "d835etIDPpN3",
        "outputId": "8c3359da-a0ca-4143-be2d-f7f80e062516"
      },
      "source": [
        "# filter tail of code is not '00', which is a detail category\n",
        "dtl_gnr_code = genre_gn_all[genre_gn_all['gnr_code'].str[-2:] != '00']\n",
        "dtl_gnr_code.rename(columns = {'gnr_code' : 'dtl_gnr_code', 'gnr_name' : 'dtl_gnr_name'}, inplace = True)"
      ],
      "execution_count": 17,
      "outputs": [
        {
          "output_type": "stream",
          "text": [
            "/usr/local/lib/python3.7/dist-packages/pandas/core/frame.py:4308: SettingWithCopyWarning: \n",
            "A value is trying to be set on a copy of a slice from a DataFrame\n",
            "\n",
            "See the caveats in the documentation: https://pandas.pydata.org/pandas-docs/stable/user_guide/indexing.html#returning-a-view-versus-a-copy\n",
            "  errors=errors,\n"
          ],
          "name": "stderr"
        }
      ]
    },
    {
      "cell_type": "code",
      "metadata": {
        "colab": {
          "base_uri": "https://localhost:8080/",
          "height": 80
        },
        "id": "Rtnhr6YaQEUf",
        "outputId": "0aef77d5-4d16-4ca0-8f55-c0e672c05d71"
      },
      "source": [
        "# 224 detail categories\n",
        "dtl_gnr_code.sample()"
      ],
      "execution_count": 66,
      "outputs": [
        {
          "output_type": "execute_result",
          "data": {
            "text/html": [
              "<div>\n",
              "<style scoped>\n",
              "    .dataframe tbody tr th:only-of-type {\n",
              "        vertical-align: middle;\n",
              "    }\n",
              "\n",
              "    .dataframe tbody tr th {\n",
              "        vertical-align: top;\n",
              "    }\n",
              "\n",
              "    .dataframe thead th {\n",
              "        text-align: right;\n",
              "    }\n",
              "</style>\n",
              "<table border=\"1\" class=\"dataframe\">\n",
              "  <thead>\n",
              "    <tr style=\"text-align: right;\">\n",
              "      <th></th>\n",
              "      <th>dtl_gnr_code</th>\n",
              "      <th>dtl_gnr_name</th>\n",
              "      <th>join_code</th>\n",
              "    </tr>\n",
              "  </thead>\n",
              "  <tbody>\n",
              "    <tr>\n",
              "      <th>75</th>\n",
              "      <td>GN1010</td>\n",
              "      <td>'70</td>\n",
              "      <td>GN10</td>\n",
              "    </tr>\n",
              "  </tbody>\n",
              "</table>\n",
              "</div>"
            ],
            "text/plain": [
              "   dtl_gnr_code dtl_gnr_name join_code\n",
              "75       GN1010          '70      GN10"
            ]
          },
          "metadata": {
            "tags": []
          },
          "execution_count": 66
        }
      ]
    },
    {
      "cell_type": "code",
      "metadata": {
        "id": "MxTuJeH5POp3"
      },
      "source": [
        "# extract 4 head char of code => genre code\n",
        "gnr_code = gnr_code.assign(join_code = gnr_code['gnr_code'].str[0:4])\n",
        "dtl_gnr_code = dtl_gnr_code.assign(join_code = dtl_gnr_code['dtl_gnr_code'].str[0:4])\n",
        "\n",
        "# make it tree by extracted genre code\n",
        "gnr_code_tree = pd.merge(gnr_code,dtl_gnr_code, how = 'left', on = 'join_code')\n"
      ],
      "execution_count": 19,
      "outputs": []
    },
    {
      "cell_type": "code",
      "metadata": {
        "colab": {
          "base_uri": "https://localhost:8080/",
          "height": 80
        },
        "id": "meE_vXEAQzeW",
        "outputId": "cb89b0a9-729d-4943-a06c-a06c7daf5f03"
      },
      "source": [
        "gnr_code_tree.sample()"
      ],
      "execution_count": 67,
      "outputs": [
        {
          "output_type": "execute_result",
          "data": {
            "text/html": [
              "<div>\n",
              "<style scoped>\n",
              "    .dataframe tbody tr th:only-of-type {\n",
              "        vertical-align: middle;\n",
              "    }\n",
              "\n",
              "    .dataframe tbody tr th {\n",
              "        vertical-align: top;\n",
              "    }\n",
              "\n",
              "    .dataframe thead th {\n",
              "        text-align: right;\n",
              "    }\n",
              "</style>\n",
              "<table border=\"1\" class=\"dataframe\">\n",
              "  <thead>\n",
              "    <tr style=\"text-align: right;\">\n",
              "      <th></th>\n",
              "      <th>gnr_code</th>\n",
              "      <th>gnr_name</th>\n",
              "      <th>join_code</th>\n",
              "      <th>dtl_gnr_code</th>\n",
              "      <th>dtl_gnr_name</th>\n",
              "    </tr>\n",
              "  </thead>\n",
              "  <tbody>\n",
              "    <tr>\n",
              "      <th>106</th>\n",
              "      <td>GN1500</td>\n",
              "      <td>OST</td>\n",
              "      <td>GN15</td>\n",
              "      <td>GN1504</td>\n",
              "      <td>국내드라마</td>\n",
              "    </tr>\n",
              "  </tbody>\n",
              "</table>\n",
              "</div>"
            ],
            "text/plain": [
              "    gnr_code gnr_name join_code dtl_gnr_code dtl_gnr_name\n",
              "106   GN1500      OST      GN15       GN1504        국내드라마"
            ]
          },
          "metadata": {
            "tags": []
          },
          "execution_count": 67
        }
      ]
    },
    {
      "cell_type": "code",
      "metadata": {
        "colab": {
          "base_uri": "https://localhost:8080/",
          "height": 80
        },
        "id": "cpDs7ij8Q28O",
        "outputId": "1ddceb94-d8d9-4d48-b161-b1210fbe22cd"
      },
      "source": [
        "# see code GN0900 POP\n",
        "gnr_code_tree[gnr_code_tree['gnr_code'] == 'GN0900'].sample()"
      ],
      "execution_count": 68,
      "outputs": [
        {
          "output_type": "execute_result",
          "data": {
            "text/html": [
              "<div>\n",
              "<style scoped>\n",
              "    .dataframe tbody tr th:only-of-type {\n",
              "        vertical-align: middle;\n",
              "    }\n",
              "\n",
              "    .dataframe tbody tr th {\n",
              "        vertical-align: top;\n",
              "    }\n",
              "\n",
              "    .dataframe thead th {\n",
              "        text-align: right;\n",
              "    }\n",
              "</style>\n",
              "<table border=\"1\" class=\"dataframe\">\n",
              "  <thead>\n",
              "    <tr style=\"text-align: right;\">\n",
              "      <th></th>\n",
              "      <th>gnr_code</th>\n",
              "      <th>gnr_name</th>\n",
              "      <th>join_code</th>\n",
              "      <th>dtl_gnr_code</th>\n",
              "      <th>dtl_gnr_name</th>\n",
              "    </tr>\n",
              "  </thead>\n",
              "  <tbody>\n",
              "    <tr>\n",
              "      <th>53</th>\n",
              "      <td>GN0900</td>\n",
              "      <td>POP</td>\n",
              "      <td>GN09</td>\n",
              "      <td>GN0906</td>\n",
              "      <td>'80-'90</td>\n",
              "    </tr>\n",
              "  </tbody>\n",
              "</table>\n",
              "</div>"
            ],
            "text/plain": [
              "   gnr_code gnr_name join_code dtl_gnr_code dtl_gnr_name\n",
              "53   GN0900      POP      GN09       GN0906      '80-'90"
            ]
          },
          "metadata": {
            "tags": []
          },
          "execution_count": 68
        }
      ]
    },
    {
      "cell_type": "markdown",
      "metadata": {
        "id": "WpKn4FmC7Nlo"
      },
      "source": [
        "---\n",
        "song_meta.json"
      ]
    },
    {
      "cell_type": "code",
      "metadata": {
        "id": "6m7Yhr3dSFpn"
      },
      "source": [
        "song_meta = pd.read_json(default_path+'song_meta.json',typ = 'frame')"
      ],
      "execution_count": 22,
      "outputs": []
    },
    {
      "cell_type": "code",
      "metadata": {
        "colab": {
          "base_uri": "https://localhost:8080/",
          "height": 117
        },
        "id": "9a4jeAzcSZtW",
        "outputId": "41beb0ef-8d6c-4710-f825-d785bfb1f3e3"
      },
      "source": [
        "song_meta.sample()"
      ],
      "execution_count": 69,
      "outputs": [
        {
          "output_type": "execute_result",
          "data": {
            "text/html": [
              "<div>\n",
              "<style scoped>\n",
              "    .dataframe tbody tr th:only-of-type {\n",
              "        vertical-align: middle;\n",
              "    }\n",
              "\n",
              "    .dataframe tbody tr th {\n",
              "        vertical-align: top;\n",
              "    }\n",
              "\n",
              "    .dataframe thead th {\n",
              "        text-align: right;\n",
              "    }\n",
              "</style>\n",
              "<table border=\"1\" class=\"dataframe\">\n",
              "  <thead>\n",
              "    <tr style=\"text-align: right;\">\n",
              "      <th></th>\n",
              "      <th>song_gn_dtl_gnr_basket</th>\n",
              "      <th>issue_date</th>\n",
              "      <th>album_name</th>\n",
              "      <th>album_id</th>\n",
              "      <th>artist_id_basket</th>\n",
              "      <th>song_name</th>\n",
              "      <th>song_gn_gnr_basket</th>\n",
              "      <th>artist_name_basket</th>\n",
              "      <th>id</th>\n",
              "    </tr>\n",
              "  </thead>\n",
              "  <tbody>\n",
              "    <tr>\n",
              "      <th>176975</th>\n",
              "      <td>[GN0105, GN0101]</td>\n",
              "      <td>20140430</td>\n",
              "      <td>미안해 엄마</td>\n",
              "      <td>2307572</td>\n",
              "      <td>[745769]</td>\n",
              "      <td>미안해 엄마</td>\n",
              "      <td>[GN0100]</td>\n",
              "      <td>[박정은]</td>\n",
              "      <td>176975</td>\n",
              "    </tr>\n",
              "  </tbody>\n",
              "</table>\n",
              "</div>"
            ],
            "text/plain": [
              "       song_gn_dtl_gnr_basket  issue_date  ... artist_name_basket      id\n",
              "176975       [GN0105, GN0101]    20140430  ...              [박정은]  176975\n",
              "\n",
              "[1 rows x 9 columns]"
            ]
          },
          "metadata": {
            "tags": []
          },
          "execution_count": 69
        }
      ]
    },
    {
      "cell_type": "code",
      "metadata": {
        "colab": {
          "base_uri": "https://localhost:8080/"
        },
        "id": "x35Mj0UAS4nP",
        "outputId": "f3b012a9-a10a-415a-e045-a51bbeeb3f79"
      },
      "source": [
        "song_meta.info()"
      ],
      "execution_count": 24,
      "outputs": [
        {
          "output_type": "stream",
          "text": [
            "<class 'pandas.core.frame.DataFrame'>\n",
            "RangeIndex: 707989 entries, 0 to 707988\n",
            "Data columns (total 9 columns):\n",
            " #   Column                  Non-Null Count   Dtype \n",
            "---  ------                  --------------   ----- \n",
            " 0   song_gn_dtl_gnr_basket  707989 non-null  object\n",
            " 1   issue_date              707989 non-null  int64 \n",
            " 2   album_name              707985 non-null  object\n",
            " 3   album_id                707989 non-null  int64 \n",
            " 4   artist_id_basket        707989 non-null  object\n",
            " 5   song_name               707989 non-null  object\n",
            " 6   song_gn_gnr_basket      707989 non-null  object\n",
            " 7   artist_name_basket      707989 non-null  object\n",
            " 8   id                      707989 non-null  int64 \n",
            "dtypes: int64(3), object(6)\n",
            "memory usage: 48.6+ MB\n"
          ],
          "name": "stdout"
        }
      ]
    },
    {
      "cell_type": "code",
      "metadata": {
        "id": "lPZR11c_S5Cg"
      },
      "source": [
        "# extract id, big genre list\n",
        "song_gnr_map = song_meta.loc[:,[\"id\",\"song_gn_gnr_basket\"]]\n",
        "\n",
        "# match gen code and id 1 by 1 as array\n",
        "song_gnr_map_unnest = np.dstack(\n",
        "  (\n",
        "    # extract id, gen list length as array\n",
        "    # and repeat id as value of list\n",
        "    np.repeat(song_gnr_map.id.values, list(map(len, song_gnr_map.song_gn_gnr_basket))),\n",
        "    \n",
        "    # get gen lists as array and merge as one list (duplicate allowed)\n",
        "    np.concatenate(song_gnr_map.song_gn_gnr_basket.values)\n",
        "  )\n",
        ")"
      ],
      "execution_count": 25,
      "outputs": []
    },
    {
      "cell_type": "code",
      "metadata": {
        "id": "fHsGdnexYgTZ"
      },
      "source": [
        "# make it dataframe\n",
        "song_gnr_map = pd.DataFrame(data = song_gnr_map_unnest[0], columns = song_gnr_map.columns)\n",
        "\n",
        "# change column names\n",
        "song_gnr_map['id'] = song_gnr_map['id'].astype(str)\n",
        "song_gnr_map.rename(columns = {'id' : 'song_id', 'song_gn_gnr_basket' : 'gnr_code'}, inplace = True)\n",
        "\n",
        "# remove unnest\n",
        "del song_gnr_map_unnest"
      ],
      "execution_count": 26,
      "outputs": []
    },
    {
      "cell_type": "code",
      "metadata": {
        "colab": {
          "base_uri": "https://localhost:8080/",
          "height": 80
        },
        "id": "DD2ipJLVD3cn",
        "outputId": "8fe71d99-3d9e-4ecc-b4df-8f22f7ed4d70"
      },
      "source": [
        "song_gnr_map.sample()"
      ],
      "execution_count": 70,
      "outputs": [
        {
          "output_type": "execute_result",
          "data": {
            "text/html": [
              "<div>\n",
              "<style scoped>\n",
              "    .dataframe tbody tr th:only-of-type {\n",
              "        vertical-align: middle;\n",
              "    }\n",
              "\n",
              "    .dataframe tbody tr th {\n",
              "        vertical-align: top;\n",
              "    }\n",
              "\n",
              "    .dataframe thead th {\n",
              "        text-align: right;\n",
              "    }\n",
              "</style>\n",
              "<table border=\"1\" class=\"dataframe\">\n",
              "  <thead>\n",
              "    <tr style=\"text-align: right;\">\n",
              "      <th></th>\n",
              "      <th>song_id</th>\n",
              "      <th>gnr_code</th>\n",
              "    </tr>\n",
              "  </thead>\n",
              "  <tbody>\n",
              "    <tr>\n",
              "      <th>482141</th>\n",
              "      <td>425295</td>\n",
              "      <td>GN2200</td>\n",
              "    </tr>\n",
              "  </tbody>\n",
              "</table>\n",
              "</div>"
            ],
            "text/plain": [
              "       song_id gnr_code\n",
              "482141  425295   GN2200"
            ]
          },
          "metadata": {
            "tags": []
          },
          "execution_count": 70
        }
      ]
    },
    {
      "cell_type": "code",
      "metadata": {
        "colab": {
          "base_uri": "https://localhost:8080/",
          "height": 80
        },
        "id": "2d-Mepr1S5r-",
        "outputId": "f7e739a0-92c9-4030-ef1d-8e3310b2022a"
      },
      "source": [
        "# make genre per song table : song_gnr_count\n",
        "song_gnr_count = song_gnr_map.groupby('song_id').gnr_code.nunique().reset_index(name = 'mapping_gnr_cnt')\n",
        "song_gnr_count.sample()"
      ],
      "execution_count": 71,
      "outputs": [
        {
          "output_type": "execute_result",
          "data": {
            "text/html": [
              "<div>\n",
              "<style scoped>\n",
              "    .dataframe tbody tr th:only-of-type {\n",
              "        vertical-align: middle;\n",
              "    }\n",
              "\n",
              "    .dataframe tbody tr th {\n",
              "        vertical-align: top;\n",
              "    }\n",
              "\n",
              "    .dataframe thead th {\n",
              "        text-align: right;\n",
              "    }\n",
              "</style>\n",
              "<table border=\"1\" class=\"dataframe\">\n",
              "  <thead>\n",
              "    <tr style=\"text-align: right;\">\n",
              "      <th></th>\n",
              "      <th>song_id</th>\n",
              "      <th>mapping_gnr_cnt</th>\n",
              "    </tr>\n",
              "  </thead>\n",
              "  <tbody>\n",
              "    <tr>\n",
              "      <th>289388</th>\n",
              "      <td>360851</td>\n",
              "      <td>1</td>\n",
              "    </tr>\n",
              "  </tbody>\n",
              "</table>\n",
              "</div>"
            ],
            "text/plain": [
              "       song_id  mapping_gnr_cnt\n",
              "289388  360851                1"
            ]
          },
          "metadata": {
            "tags": []
          },
          "execution_count": 71
        }
      ]
    },
    {
      "cell_type": "code",
      "metadata": {
        "colab": {
          "base_uri": "https://localhost:8080/",
          "height": 80
        },
        "id": "ogI50OcOS53u",
        "outputId": "df872f4a-cfbb-45a3-c1b7-f25f88124b32"
      },
      "source": [
        "# make song per genre number table : gnr_song_count\n",
        "gnr_song_count = song_gnr_count.groupby('mapping_gnr_cnt').song_id.nunique().reset_index(name = \"매핑된 곡 수\")\n",
        "gnr_song_count.sample()"
      ],
      "execution_count": 72,
      "outputs": [
        {
          "output_type": "execute_result",
          "data": {
            "text/html": [
              "<div>\n",
              "<style scoped>\n",
              "    .dataframe tbody tr th:only-of-type {\n",
              "        vertical-align: middle;\n",
              "    }\n",
              "\n",
              "    .dataframe tbody tr th {\n",
              "        vertical-align: top;\n",
              "    }\n",
              "\n",
              "    .dataframe thead th {\n",
              "        text-align: right;\n",
              "    }\n",
              "</style>\n",
              "<table border=\"1\" class=\"dataframe\">\n",
              "  <thead>\n",
              "    <tr style=\"text-align: right;\">\n",
              "      <th></th>\n",
              "      <th>mapping_gnr_cnt</th>\n",
              "      <th>매핑된 곡 수</th>\n",
              "    </tr>\n",
              "  </thead>\n",
              "  <tbody>\n",
              "    <tr>\n",
              "      <th>0</th>\n",
              "      <td>1</td>\n",
              "      <td>612806</td>\n",
              "    </tr>\n",
              "  </tbody>\n",
              "</table>\n",
              "</div>"
            ],
            "text/plain": [
              "   mapping_gnr_cnt  매핑된 곡 수\n",
              "0                1   612806"
            ]
          },
          "metadata": {
            "tags": []
          },
          "execution_count": 72
        }
      ]
    },
    {
      "cell_type": "code",
      "metadata": {
        "colab": {
          "base_uri": "https://localhost:8080/",
          "height": 80
        },
        "id": "XwwNIO8dUEKS",
        "outputId": "5fd2325d-6174-4d27-aed5-09d0ae77a39f"
      },
      "source": [
        "# add percentage column\n",
        "gnr_song_count.loc[:,'비율(%)'] = round(gnr_song_count['매핑된 곡 수']/sum(gnr_song_count['매핑된 곡 수'])*100,2)\n",
        "gnr_song_count = gnr_song_count.reset_index().rename(columns = {'mapping_gnr_cnt' : '장르 수'})\n",
        "gnr_song_count[['장르 수','매핑된 곡 수','비율(%)']].sample()"
      ],
      "execution_count": 73,
      "outputs": [
        {
          "output_type": "execute_result",
          "data": {
            "text/html": [
              "<div>\n",
              "<style scoped>\n",
              "    .dataframe tbody tr th:only-of-type {\n",
              "        vertical-align: middle;\n",
              "    }\n",
              "\n",
              "    .dataframe tbody tr th {\n",
              "        vertical-align: top;\n",
              "    }\n",
              "\n",
              "    .dataframe thead th {\n",
              "        text-align: right;\n",
              "    }\n",
              "</style>\n",
              "<table border=\"1\" class=\"dataframe\">\n",
              "  <thead>\n",
              "    <tr style=\"text-align: right;\">\n",
              "      <th></th>\n",
              "      <th>장르 수</th>\n",
              "      <th>매핑된 곡 수</th>\n",
              "      <th>비율(%)</th>\n",
              "    </tr>\n",
              "  </thead>\n",
              "  <tbody>\n",
              "    <tr>\n",
              "      <th>0</th>\n",
              "      <td>1</td>\n",
              "      <td>612806</td>\n",
              "      <td>86.69</td>\n",
              "    </tr>\n",
              "  </tbody>\n",
              "</table>\n",
              "</div>"
            ],
            "text/plain": [
              "   장르 수  매핑된 곡 수  비율(%)\n",
              "0     1   612806  86.69"
            ]
          },
          "metadata": {
            "tags": []
          },
          "execution_count": 73
        }
      ]
    },
    {
      "cell_type": "markdown",
      "metadata": {
        "id": "ZgC4Jzt1FkrC"
      },
      "source": [
        "---\n",
        "Most genres"
      ]
    },
    {
      "cell_type": "code",
      "metadata": {
        "colab": {
          "base_uri": "https://localhost:8080/",
          "height": 80
        },
        "id": "ikzpAdXbVD_B",
        "outputId": "6ab63def-d118-488b-a335-e1dd0645dca5"
      },
      "source": [
        "# make genre per song number table : gnr_count\n",
        "gnr_count = song_gnr_map.groupby('gnr_code').song_id.nunique().reset_index(name = 'song_cnt')\n",
        "gnr_count.sample()"
      ],
      "execution_count": 31,
      "outputs": [
        {
          "output_type": "execute_result",
          "data": {
            "text/html": [
              "<div>\n",
              "<style scoped>\n",
              "    .dataframe tbody tr th:only-of-type {\n",
              "        vertical-align: middle;\n",
              "    }\n",
              "\n",
              "    .dataframe tbody tr th {\n",
              "        vertical-align: top;\n",
              "    }\n",
              "\n",
              "    .dataframe thead th {\n",
              "        text-align: right;\n",
              "    }\n",
              "</style>\n",
              "<table border=\"1\" class=\"dataframe\">\n",
              "  <thead>\n",
              "    <tr style=\"text-align: right;\">\n",
              "      <th></th>\n",
              "      <th>gnr_code</th>\n",
              "      <th>song_cnt</th>\n",
              "    </tr>\n",
              "  </thead>\n",
              "  <tbody>\n",
              "    <tr>\n",
              "      <th>6</th>\n",
              "      <td>GN0700</td>\n",
              "      <td>12673</td>\n",
              "    </tr>\n",
              "  </tbody>\n",
              "</table>\n",
              "</div>"
            ],
            "text/plain": [
              "  gnr_code  song_cnt\n",
              "6   GN0700     12673"
            ]
          },
          "metadata": {
            "tags": []
          },
          "execution_count": 31
        }
      ]
    },
    {
      "cell_type": "code",
      "metadata": {
        "colab": {
          "base_uri": "https://localhost:8080/",
          "height": 80
        },
        "id": "_h-PhV2ZVvSR",
        "outputId": "fd434402-329e-4891-ca4f-acd379e24599"
      },
      "source": [
        "# indicate gnr_name\n",
        "gnr_count = pd.merge(gnr_count,gnr_code.loc[:,['gnr_code','gnr_name']], how = 'left', on = 'gnr_code')\n",
        "gnr_count.sample()"
      ],
      "execution_count": 32,
      "outputs": [
        {
          "output_type": "execute_result",
          "data": {
            "text/html": [
              "<div>\n",
              "<style scoped>\n",
              "    .dataframe tbody tr th:only-of-type {\n",
              "        vertical-align: middle;\n",
              "    }\n",
              "\n",
              "    .dataframe tbody tr th {\n",
              "        vertical-align: top;\n",
              "    }\n",
              "\n",
              "    .dataframe thead th {\n",
              "        text-align: right;\n",
              "    }\n",
              "</style>\n",
              "<table border=\"1\" class=\"dataframe\">\n",
              "  <thead>\n",
              "    <tr style=\"text-align: right;\">\n",
              "      <th></th>\n",
              "      <th>gnr_code</th>\n",
              "      <th>song_cnt</th>\n",
              "      <th>gnr_name</th>\n",
              "    </tr>\n",
              "  </thead>\n",
              "  <tbody>\n",
              "    <tr>\n",
              "      <th>18</th>\n",
              "      <td>GN1900</td>\n",
              "      <td>21413</td>\n",
              "      <td>J-POP</td>\n",
              "    </tr>\n",
              "  </tbody>\n",
              "</table>\n",
              "</div>"
            ],
            "text/plain": [
              "   gnr_code  song_cnt gnr_name\n",
              "18   GN1900     21413    J-POP"
            ]
          },
          "metadata": {
            "tags": []
          },
          "execution_count": 32
        }
      ]
    },
    {
      "cell_type": "code",
      "metadata": {
        "colab": {
          "base_uri": "https://localhost:8080/",
          "height": 80
        },
        "id": "MBlL_K5JXSBR",
        "outputId": "23c1594c-1b2d-40b3-fabb-94fe7f2d0a99"
      },
      "source": [
        "gnr_count['gnr_code_name'] = gnr_count['gnr_code'] + ' (' + gnr_count['gnr_name'] + ')'\n",
        "gnr_count.sample()"
      ],
      "execution_count": 33,
      "outputs": [
        {
          "output_type": "execute_result",
          "data": {
            "text/html": [
              "<div>\n",
              "<style scoped>\n",
              "    .dataframe tbody tr th:only-of-type {\n",
              "        vertical-align: middle;\n",
              "    }\n",
              "\n",
              "    .dataframe tbody tr th {\n",
              "        vertical-align: top;\n",
              "    }\n",
              "\n",
              "    .dataframe thead th {\n",
              "        text-align: right;\n",
              "    }\n",
              "</style>\n",
              "<table border=\"1\" class=\"dataframe\">\n",
              "  <thead>\n",
              "    <tr style=\"text-align: right;\">\n",
              "      <th></th>\n",
              "      <th>gnr_code</th>\n",
              "      <th>song_cnt</th>\n",
              "      <th>gnr_name</th>\n",
              "      <th>gnr_code_name</th>\n",
              "    </tr>\n",
              "  </thead>\n",
              "  <tbody>\n",
              "    <tr>\n",
              "      <th>5</th>\n",
              "      <td>GN0600</td>\n",
              "      <td>29690</td>\n",
              "      <td>록/메탈</td>\n",
              "      <td>GN0600 (록/메탈)</td>\n",
              "    </tr>\n",
              "  </tbody>\n",
              "</table>\n",
              "</div>"
            ],
            "text/plain": [
              "  gnr_code  song_cnt gnr_name  gnr_code_name\n",
              "5   GN0600     29690     록/메탈  GN0600 (록/메탈)"
            ]
          },
          "metadata": {
            "tags": []
          },
          "execution_count": 33
        }
      ]
    },
    {
      "cell_type": "code",
      "metadata": {
        "colab": {
          "base_uri": "https://localhost:8080/",
          "height": 80
        },
        "id": "AbWqy0CfX8WZ",
        "outputId": "02e05334-ecd3-457b-f254-94ee7cc55628"
      },
      "source": [
        "# drop rows which doesn't matched\n",
        "gnr_count = gnr_count[['gnr_code_name','song_cnt']].dropna()\n",
        "gnr_count.sample()"
      ],
      "execution_count": 34,
      "outputs": [
        {
          "output_type": "execute_result",
          "data": {
            "text/html": [
              "<div>\n",
              "<style scoped>\n",
              "    .dataframe tbody tr th:only-of-type {\n",
              "        vertical-align: middle;\n",
              "    }\n",
              "\n",
              "    .dataframe tbody tr th {\n",
              "        vertical-align: top;\n",
              "    }\n",
              "\n",
              "    .dataframe thead th {\n",
              "        text-align: right;\n",
              "    }\n",
              "</style>\n",
              "<table border=\"1\" class=\"dataframe\">\n",
              "  <thead>\n",
              "    <tr style=\"text-align: right;\">\n",
              "      <th></th>\n",
              "      <th>gnr_code_name</th>\n",
              "      <th>song_cnt</th>\n",
              "    </tr>\n",
              "  </thead>\n",
              "  <tbody>\n",
              "    <tr>\n",
              "      <th>0</th>\n",
              "      <td>GN0100 (발라드)</td>\n",
              "      <td>56820</td>\n",
              "    </tr>\n",
              "  </tbody>\n",
              "</table>\n",
              "</div>"
            ],
            "text/plain": [
              "  gnr_code_name  song_cnt\n",
              "0  GN0100 (발라드)     56820"
            ]
          },
          "metadata": {
            "tags": []
          },
          "execution_count": 34
        }
      ]
    },
    {
      "cell_type": "code",
      "metadata": {
        "colab": {
          "base_uri": "https://localhost:8080/"
        },
        "id": "LM224BspYt1z",
        "outputId": "dc66a848-a615-45ec-8af3-1380464174dd"
      },
      "source": [
        "# sort by mapped song number, descedning\n",
        "gnr_list_desc = gnr_count.sort_values('song_cnt',ascending=False).gnr_code_name\n",
        "gnr_list_desc.sample()"
      ],
      "execution_count": 75,
      "outputs": [
        {
          "output_type": "execute_result",
          "data": {
            "text/plain": [
              "16    GN1700 (재즈)\n",
              "Name: gnr_code_name, dtype: object"
            ]
          },
          "metadata": {
            "tags": []
          },
          "execution_count": 75
        }
      ]
    },
    {
      "cell_type": "code",
      "metadata": {
        "colab": {
          "base_uri": "https://localhost:8080/",
          "height": 439
        },
        "id": "3OxwXjivZRlB",
        "outputId": "d02ca1e3-9bee-4c69-8ede-213e47585153"
      },
      "source": [
        "# plotting\n",
        "plt.figure(figsize = (20, 5))\n",
        "gnr_code_name_plot = sns.barplot(x='gnr_code_name',y='song_cnt',data=gnr_count,order=gnr_list_desc)\n",
        "gnr_code_name_plot.set_title('장르 별 매핑된 곡 수 분포')\n",
        "gnr_code_name_plot.set_xlabel('대분류 장르코드')\n",
        "gnr_code_name_plot.set_ylabel('곡 수')\n",
        "plt.xticks(rotation=45)\n",
        "plt.show()"
      ],
      "execution_count": 52,
      "outputs": [
        {
          "output_type": "display_data",
          "data": {
            "image/png": "[encoded data removed]",
            "text/plain": [
              "<Figure size 1440x360 with 1 Axes>"
            ]
          },
          "metadata": {
            "tags": [],
            "image/png": {
              "width": 1196,
              "height": 422
            },
            "needs_background": "light"
          }
        }
      ]
    },
    {
      "cell_type": "markdown",
      "metadata": {
        "id": "_P_KMuY9FtyU"
      },
      "source": [
        "---\n",
        "Most years"
      ]
    },
    {
      "cell_type": "code",
      "metadata": {
        "id": "gCVATGH3GzEE"
      },
      "source": [
        "# ignore warning\n",
        "pd.options.mode.chained_assignment = None"
      ],
      "execution_count": 39,
      "outputs": []
    },
    {
      "cell_type": "code",
      "metadata": {
        "colab": {
          "base_uri": "https://localhost:8080/",
          "height": 80
        },
        "id": "3u5KaIe4lnwL",
        "outputId": "76516429-068c-4782-9c2f-1c6a2feb6613"
      },
      "source": [
        "# extract id and date\n",
        "song_issue_date = song_meta[['id','issue_date']]\n",
        "song_issue_date['issue_date'] = song_issue_date['issue_date'].astype(str)\n",
        "song_issue_date.sample()"
      ],
      "execution_count": 76,
      "outputs": [
        {
          "output_type": "execute_result",
          "data": {
            "text/html": [
              "<div>\n",
              "<style scoped>\n",
              "    .dataframe tbody tr th:only-of-type {\n",
              "        vertical-align: middle;\n",
              "    }\n",
              "\n",
              "    .dataframe tbody tr th {\n",
              "        vertical-align: top;\n",
              "    }\n",
              "\n",
              "    .dataframe thead th {\n",
              "        text-align: right;\n",
              "    }\n",
              "</style>\n",
              "<table border=\"1\" class=\"dataframe\">\n",
              "  <thead>\n",
              "    <tr style=\"text-align: right;\">\n",
              "      <th></th>\n",
              "      <th>id</th>\n",
              "      <th>issue_date</th>\n",
              "    </tr>\n",
              "  </thead>\n",
              "  <tbody>\n",
              "    <tr>\n",
              "      <th>515034</th>\n",
              "      <td>515034</td>\n",
              "      <td>20190830</td>\n",
              "    </tr>\n",
              "  </tbody>\n",
              "</table>\n",
              "</div>"
            ],
            "text/plain": [
              "            id issue_date\n",
              "515034  515034   20190830"
            ]
          },
          "metadata": {
            "tags": []
          },
          "execution_count": 76
        }
      ]
    },
    {
      "cell_type": "code",
      "metadata": {
        "colab": {
          "base_uri": "https://localhost:8080/",
          "height": 80
        },
        "id": "8f86t4INGPbQ",
        "outputId": "84648084-f3d8-4f28-d37c-658b8dd7ff80"
      },
      "source": [
        "# extract year from date\n",
        "song_issue_date['issue_year'] = song_issue_date['issue_date'].str[0:4]\n",
        "song_issue_date.rename(columns={'id':'song_id'},inplace=True)\n",
        "song_issue_date['song_id'] = song_issue_date['song_id'].astype(str)\n",
        "song_issue_date.sample()"
      ],
      "execution_count": 40,
      "outputs": [
        {
          "output_type": "execute_result",
          "data": {
            "text/html": [
              "<div>\n",
              "<style scoped>\n",
              "    .dataframe tbody tr th:only-of-type {\n",
              "        vertical-align: middle;\n",
              "    }\n",
              "\n",
              "    .dataframe tbody tr th {\n",
              "        vertical-align: top;\n",
              "    }\n",
              "\n",
              "    .dataframe thead th {\n",
              "        text-align: right;\n",
              "    }\n",
              "</style>\n",
              "<table border=\"1\" class=\"dataframe\">\n",
              "  <thead>\n",
              "    <tr style=\"text-align: right;\">\n",
              "      <th></th>\n",
              "      <th>song_id</th>\n",
              "      <th>issue_date</th>\n",
              "      <th>issue_year</th>\n",
              "    </tr>\n",
              "  </thead>\n",
              "  <tbody>\n",
              "    <tr>\n",
              "      <th>237365</th>\n",
              "      <td>237365</td>\n",
              "      <td>20041031</td>\n",
              "      <td>2004</td>\n",
              "    </tr>\n",
              "  </tbody>\n",
              "</table>\n",
              "</div>"
            ],
            "text/plain": [
              "       song_id issue_date issue_year\n",
              "237365  237365   20041031       2004"
            ]
          },
          "metadata": {
            "tags": []
          },
          "execution_count": 40
        }
      ]
    },
    {
      "cell_type": "code",
      "metadata": {
        "id": "oEfR4wtgG73G"
      },
      "source": [
        "# filter 1990~\n",
        "song_issue_date_filter = song_issue_date[song_issue_date.issue_year >= '1990']"
      ],
      "execution_count": 42,
      "outputs": []
    },
    {
      "cell_type": "code",
      "metadata": {
        "colab": {
          "base_uri": "https://localhost:8080/",
          "height": 80
        },
        "id": "ACmmR0kdHPIk",
        "outputId": "b46b4729-6923-4bdb-f45f-5591c81a2548"
      },
      "source": [
        "# song number per year\n",
        "issue_year_song_cnt = song_issue_date_filter.groupby('issue_year').song_id.nunique().reset_index(name = 'song_cnt')\n",
        "issue_year_song_cnt.sample()"
      ],
      "execution_count": 46,
      "outputs": [
        {
          "output_type": "execute_result",
          "data": {
            "text/html": [
              "<div>\n",
              "<style scoped>\n",
              "    .dataframe tbody tr th:only-of-type {\n",
              "        vertical-align: middle;\n",
              "    }\n",
              "\n",
              "    .dataframe tbody tr th {\n",
              "        vertical-align: top;\n",
              "    }\n",
              "\n",
              "    .dataframe thead th {\n",
              "        text-align: right;\n",
              "    }\n",
              "</style>\n",
              "<table border=\"1\" class=\"dataframe\">\n",
              "  <thead>\n",
              "    <tr style=\"text-align: right;\">\n",
              "      <th></th>\n",
              "      <th>issue_year</th>\n",
              "      <th>song_cnt</th>\n",
              "    </tr>\n",
              "  </thead>\n",
              "  <tbody>\n",
              "    <tr>\n",
              "      <th>4</th>\n",
              "      <td>1994</td>\n",
              "      <td>3191</td>\n",
              "    </tr>\n",
              "  </tbody>\n",
              "</table>\n",
              "</div>"
            ],
            "text/plain": [
              "  issue_year  song_cnt\n",
              "4       1994      3191"
            ]
          },
          "metadata": {
            "tags": []
          },
          "execution_count": 46
        }
      ]
    },
    {
      "cell_type": "code",
      "metadata": {
        "colab": {
          "base_uri": "https://localhost:8080/",
          "height": 363
        },
        "id": "pf4oTrdGHmD4",
        "outputId": "795b13ad-4cc4-412c-e6ef-f07f4c14bd01"
      },
      "source": [
        "# plotting\n",
        "plt.figure(figsize = (20, 5))\n",
        "issue_year_song_cnt_plot = sns.barplot(x='issue_year',y='song_cnt', data = issue_year_song_cnt)\n",
        "issue_year_song_cnt_plot.set_title('발매년도 별 곡 수 추이 (1990년~)')\n",
        "issue_year_song_cnt_plot.set_xlabel('발매년도')\n",
        "issue_year_song_cnt_plot.set_ylabel('곡 수')\n",
        "plt.xticks(rotation=45)\n",
        "plt.show()"
      ],
      "execution_count": 54,
      "outputs": [
        {
          "output_type": "display_data",
          "data": {
            "image/png": "[encoded data removed]",
            "text/plain": [
              "<Figure size 1440x360 with 1 Axes>"
            ]
          },
          "metadata": {
            "tags": [],
            "image/png": {
              "width": 1181,
              "height": 346
            },
            "needs_background": "light"
          }
        }
      ]
    },
    {
      "cell_type": "markdown",
      "metadata": {
        "id": "Cj9lkDlMHmlA"
      },
      "source": [
        "---\n",
        "train.json"
      ]
    },
    {
      "cell_type": "code",
      "metadata": {
        "id": "PmLt1dvJI9wf"
      },
      "source": [
        "train = pd.read_json(default_path+'train.json',typ='frame')"
      ],
      "execution_count": 59,
      "outputs": []
    },
    {
      "cell_type": "code",
      "metadata": {
        "colab": {
          "base_uri": "https://localhost:8080/"
        },
        "id": "i9Yhk6v4I-Gp",
        "outputId": "203d05f4-c348-4077-d20e-d0294f48cc1b"
      },
      "source": [
        "train.info()"
      ],
      "execution_count": 77,
      "outputs": [
        {
          "output_type": "stream",
          "text": [
            "<class 'pandas.core.frame.DataFrame'>\n",
            "RangeIndex: 115071 entries, 0 to 115070\n",
            "Data columns (total 6 columns):\n",
            " #   Column        Non-Null Count   Dtype \n",
            "---  ------        --------------   ----- \n",
            " 0   tags          115071 non-null  object\n",
            " 1   id            115071 non-null  int64 \n",
            " 2   plylst_title  115071 non-null  object\n",
            " 3   songs         115071 non-null  object\n",
            " 4   like_cnt      115071 non-null  int64 \n",
            " 5   updt_date     115071 non-null  object\n",
            "dtypes: int64(2), object(4)\n",
            "memory usage: 5.3+ MB\n"
          ],
          "name": "stdout"
        }
      ]
    },
    {
      "cell_type": "code",
      "metadata": {
        "colab": {
          "base_uri": "https://localhost:8080/",
          "height": 80
        },
        "id": "UZknQkUVI-Rd",
        "outputId": "fb8aebc6-66fd-410a-e3d5-d65c0d6b9bbc"
      },
      "source": [
        "# extract id and songs\n",
        "plylst_song_map = train[['id','songs']]\n",
        "plylst_song_map.sample()"
      ],
      "execution_count": 78,
      "outputs": [
        {
          "output_type": "execute_result",
          "data": {
            "text/html": [
              "<div>\n",
              "<style scoped>\n",
              "    .dataframe tbody tr th:only-of-type {\n",
              "        vertical-align: middle;\n",
              "    }\n",
              "\n",
              "    .dataframe tbody tr th {\n",
              "        vertical-align: top;\n",
              "    }\n",
              "\n",
              "    .dataframe thead th {\n",
              "        text-align: right;\n",
              "    }\n",
              "</style>\n",
              "<table border=\"1\" class=\"dataframe\">\n",
              "  <thead>\n",
              "    <tr style=\"text-align: right;\">\n",
              "      <th></th>\n",
              "      <th>id</th>\n",
              "      <th>songs</th>\n",
              "    </tr>\n",
              "  </thead>\n",
              "  <tbody>\n",
              "    <tr>\n",
              "      <th>76599</th>\n",
              "      <td>27289</td>\n",
              "      <td>[517016, 213942, 322928, 250632, 484435, 68663...</td>\n",
              "    </tr>\n",
              "  </tbody>\n",
              "</table>\n",
              "</div>"
            ],
            "text/plain": [
              "          id                                              songs\n",
              "76599  27289  [517016, 213942, 322928, 250632, 484435, 68663..."
            ]
          },
          "metadata": {
            "tags": []
          },
          "execution_count": 78
        }
      ]
    },
    {
      "cell_type": "code",
      "metadata": {
        "colab": {
          "base_uri": "https://localhost:8080/"
        },
        "id": "vggazQ9FKU-S",
        "outputId": "4f8fb014-848b-4461-f70e-c92168daa87e"
      },
      "source": [
        "# 1 by 1 match playlist id and song id (duplicated)\n",
        "plylst_song_map_unnest = np.dstack(\n",
        "  (\n",
        "    np.repeat(plylst_song_map.id.values,list(map(len,plylst_song_map.songs))),\n",
        "    np.concatenate(plylst_song_map.songs.values)\n",
        "  )\n",
        ")\n",
        "\n",
        "plylst_song_map_unnest"
      ],
      "execution_count": 82,
      "outputs": [
        {
          "output_type": "execute_result",
          "data": {
            "text/plain": [
              "array([[[ 61281, 525514],\n",
              "        [ 61281, 129701],\n",
              "        [ 61281, 383374],\n",
              "        ...,\n",
              "        [100389, 640239],\n",
              "        [100389,  13759],\n",
              "        [100389, 154078]]])"
            ]
          },
          "metadata": {
            "tags": []
          },
          "execution_count": 82
        }
      ]
    },
    {
      "cell_type": "code",
      "metadata": {
        "colab": {
          "base_uri": "https://localhost:8080/",
          "height": 80
        },
        "id": "b7-Zuw_FLPal",
        "outputId": "8e3a1d1c-bc2d-41e5-b806-561908d4d8b9"
      },
      "source": [
        "# make it dataframe\n",
        "plylst_song_map = pd.DataFrame(data = plylst_song_map_unnest[0],columns = plylst_song_map.columns)\n",
        "plylst_song_map['id'] = plylst_song_map['id'].astype(str)\n",
        "plylst_song_map['songs'] = plylst_song_map['songs'].astype(str)\n",
        "\n",
        "del plylst_song_map_unnest\n",
        "plylst_song_map.sample()"
      ],
      "execution_count": 84,
      "outputs": [
        {
          "output_type": "execute_result",
          "data": {
            "text/html": [
              "<div>\n",
              "<style scoped>\n",
              "    .dataframe tbody tr th:only-of-type {\n",
              "        vertical-align: middle;\n",
              "    }\n",
              "\n",
              "    .dataframe tbody tr th {\n",
              "        vertical-align: top;\n",
              "    }\n",
              "\n",
              "    .dataframe thead th {\n",
              "        text-align: right;\n",
              "    }\n",
              "</style>\n",
              "<table border=\"1\" class=\"dataframe\">\n",
              "  <thead>\n",
              "    <tr style=\"text-align: right;\">\n",
              "      <th></th>\n",
              "      <th>id</th>\n",
              "      <th>songs</th>\n",
              "    </tr>\n",
              "  </thead>\n",
              "  <tbody>\n",
              "    <tr>\n",
              "      <th>3561495</th>\n",
              "      <td>109105</td>\n",
              "      <td>647228</td>\n",
              "    </tr>\n",
              "  </tbody>\n",
              "</table>\n",
              "</div>"
            ],
            "text/plain": [
              "             id   songs\n",
              "3561495  109105  647228"
            ]
          },
          "metadata": {
            "tags": []
          },
          "execution_count": 84
        }
      ]
    },
    {
      "cell_type": "code",
      "metadata": {
        "id": "4JdrR2O7MU6q"
      },
      "source": [
        ""
      ],
      "execution_count": null,
      "outputs": []
    },
    {
      "cell_type": "code",
      "metadata": {
        "id": "pNeyINavLryq"
      },
      "source": [
        "train_uniq_song_cnt = plylst_song_map.songs.nunique()\n",
        "train_uniq_tag_cnt"
      ],
      "execution_count": null,
      "outputs": []
    }
  ]
}