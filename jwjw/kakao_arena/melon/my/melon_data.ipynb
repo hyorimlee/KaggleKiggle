{
  "nbformat": 4,
  "nbformat_minor": 0,
  "metadata": {
    "colab": {
      "name": "melon_data.ipynb",
      "provenance": [],
      "collapsed_sections": [],
      "authorship_tag": "ABX9TyNdtbU+pxICMQtYZY4pjI5g",
      "include_colab_link": true
    },
    "kernelspec": {
      "display_name": "Python 3",
      "name": "python3"
    },
    "language_info": {
      "name": "python"
    }
  },
  "cells": [
    {
      "cell_type": "markdown",
      "metadata": {
        "id": "view-in-github",
        "colab_type": "text"
      },
      "source": [
        "<a href=\"https://colab.research.google.com/github/HYORIMLEE/KaggleKiggle/blob/main/jwjw/kakao_arena/melon/my/melon_data.ipynb\" target=\"_parent\"><img src=\"https://colab.research.google.com/assets/colab-badge.svg\" alt=\"Open In Colab\"/></a>"
      ]
    },
    {
      "cell_type": "code",
      "metadata": {
        "id": "kgdLVay9NpbL"
      },
      "source": [
        "import numpy as np\n",
        "import pandas as pd\n",
        "import seaborn as sns\n",
        "import matplotlib.pyplot as plt\n",
        "\n",
        "%matplotlib inline\n",
        "# 구 버전 jupyter에서의 그래프 시각화\n",
        "\n",
        "plt.rc('font',family='NanumGothic')\n",
        "\n",
        "plt.rc(\"axes\",unicode_minus=False)\n",
        "# 마이너스 폰트 깨짐 방지\n",
        "\n",
        "%config InlineBackend.figure_format = 'retina'\n",
        "# 폰트를 선명하게"
      ],
      "execution_count": 54,
      "outputs": []
    },
    {
      "cell_type": "code",
      "metadata": {
        "id": "hyi-VV2jN8w3"
      },
      "source": [
        "genre_gn_all = pd.read_json('genre_gn_all.json',typ='series')"
      ],
      "execution_count": 55,
      "outputs": []
    },
    {
      "cell_type": "code",
      "metadata": {
        "id": "KLCez18ZN9ae"
      },
      "source": [
        "# make genre_gn_all as data frame with code, name columns\n",
        "genre_gn_all = pd.DataFrame(genre_gn_all, columns = ['gnr_name']).reset_index().rename(columns={'index' : 'gnr_code'})"
      ],
      "execution_count": 56,
      "outputs": []
    },
    {
      "cell_type": "code",
      "metadata": {
        "colab": {
          "base_uri": "https://localhost:8080/",
          "height": 419
        },
        "id": "Mt15q_xHOZi_",
        "outputId": "e025ac3c-17ef-4f2a-8059-0bcb9213fa30"
      },
      "source": [
        "# 254 categories\n",
        "genre_gn_all"
      ],
      "execution_count": 57,
      "outputs": [
        {
          "output_type": "execute_result",
          "data": {
            "text/html": [
              "<div>\n",
              "<style scoped>\n",
              "    .dataframe tbody tr th:only-of-type {\n",
              "        vertical-align: middle;\n",
              "    }\n",
              "\n",
              "    .dataframe tbody tr th {\n",
              "        vertical-align: top;\n",
              "    }\n",
              "\n",
              "    .dataframe thead th {\n",
              "        text-align: right;\n",
              "    }\n",
              "</style>\n",
              "<table border=\"1\" class=\"dataframe\">\n",
              "  <thead>\n",
              "    <tr style=\"text-align: right;\">\n",
              "      <th></th>\n",
              "      <th>gnr_code</th>\n",
              "      <th>gnr_name</th>\n",
              "    </tr>\n",
              "  </thead>\n",
              "  <tbody>\n",
              "    <tr>\n",
              "      <th>0</th>\n",
              "      <td>GN0100</td>\n",
              "      <td>발라드</td>\n",
              "    </tr>\n",
              "    <tr>\n",
              "      <th>1</th>\n",
              "      <td>GN0101</td>\n",
              "      <td>세부장르전체</td>\n",
              "    </tr>\n",
              "    <tr>\n",
              "      <th>2</th>\n",
              "      <td>GN0102</td>\n",
              "      <td>'80</td>\n",
              "    </tr>\n",
              "    <tr>\n",
              "      <th>3</th>\n",
              "      <td>GN0103</td>\n",
              "      <td>'90</td>\n",
              "    </tr>\n",
              "    <tr>\n",
              "      <th>4</th>\n",
              "      <td>GN0104</td>\n",
              "      <td>'00</td>\n",
              "    </tr>\n",
              "    <tr>\n",
              "      <th>...</th>\n",
              "      <td>...</td>\n",
              "      <td>...</td>\n",
              "    </tr>\n",
              "    <tr>\n",
              "      <th>249</th>\n",
              "      <td>GN2900</td>\n",
              "      <td>뮤지컬</td>\n",
              "    </tr>\n",
              "    <tr>\n",
              "      <th>250</th>\n",
              "      <td>GN2901</td>\n",
              "      <td>세부장르전체</td>\n",
              "    </tr>\n",
              "    <tr>\n",
              "      <th>251</th>\n",
              "      <td>GN2902</td>\n",
              "      <td>국내뮤지컬</td>\n",
              "    </tr>\n",
              "    <tr>\n",
              "      <th>252</th>\n",
              "      <td>GN2903</td>\n",
              "      <td>국외뮤지컬</td>\n",
              "    </tr>\n",
              "    <tr>\n",
              "      <th>253</th>\n",
              "      <td>GN3000</td>\n",
              "      <td>크리스마스</td>\n",
              "    </tr>\n",
              "  </tbody>\n",
              "</table>\n",
              "<p>254 rows × 2 columns</p>\n",
              "</div>"
            ],
            "text/plain": [
              "    gnr_code gnr_name\n",
              "0     GN0100      발라드\n",
              "1     GN0101   세부장르전체\n",
              "2     GN0102      '80\n",
              "3     GN0103      '90\n",
              "4     GN0104      '00\n",
              "..       ...      ...\n",
              "249   GN2900      뮤지컬\n",
              "250   GN2901   세부장르전체\n",
              "251   GN2902    국내뮤지컬\n",
              "252   GN2903    국외뮤지컬\n",
              "253   GN3000    크리스마스\n",
              "\n",
              "[254 rows x 2 columns]"
            ]
          },
          "metadata": {
            "tags": []
          },
          "execution_count": 57
        }
      ]
    },
    {
      "cell_type": "code",
      "metadata": {
        "id": "-82YMsR_OqPH"
      },
      "source": [
        "# filter tail of code is '00', which is a big category\n",
        "gnr_code = genre_gn_all[genre_gn_all['gnr_code'].str[-2:] == '00']"
      ],
      "execution_count": null,
      "outputs": []
    },
    {
      "cell_type": "code",
      "metadata": {
        "id": "BEBgyzivPAf-"
      },
      "source": [
        "# 30 big categories\n",
        "gnr_code"
      ],
      "execution_count": null,
      "outputs": []
    },
    {
      "cell_type": "code",
      "metadata": {
        "id": "d835etIDPpN3"
      },
      "source": [
        "# filter tail of code is not '00', which is a detail category\n",
        "dtl_gnr_code = genre_gn_all[genre_gn_all['gnr_code'].str[-2:] != '00']\n",
        "dtl_gnr_code.rename(columns = {'gnr_code' : 'dtl_gnr_code', 'gnr_name' : 'dtl_gnr_name'}, inplace = True)"
      ],
      "execution_count": null,
      "outputs": []
    },
    {
      "cell_type": "code",
      "metadata": {
        "id": "Rtnhr6YaQEUf"
      },
      "source": [
        "# 224 detail categories\n",
        "dtl_gnr_code"
      ],
      "execution_count": null,
      "outputs": []
    },
    {
      "cell_type": "code",
      "metadata": {
        "id": "MxTuJeH5POp3"
      },
      "source": [
        "# extract 4 head char of code => genre code\n",
        "gnr_code = gnr_code.assign(join_code = gnr_code['gnr_code'].str[0:4])\n",
        "dtl_gnr_code = dtl_gnr_code.assign(join_code = dtl_gnr_code['dtl_gnr_code'].str[0:4])\n",
        "\n",
        "# make it tree by extracted genre code\n",
        "gnr_code_tree = pd.merge(gnr_code,dtl_gnr_code, how = 'left', on = 'join_code')\n"
      ],
      "execution_count": null,
      "outputs": []
    },
    {
      "cell_type": "code",
      "metadata": {
        "id": "meE_vXEAQzeW"
      },
      "source": [
        "gnr_code_tree"
      ],
      "execution_count": null,
      "outputs": []
    },
    {
      "cell_type": "code",
      "metadata": {
        "id": "cpDs7ij8Q28O"
      },
      "source": [
        "# see code GN0900 POP\n",
        "gnr_code_tree[gnr_code_tree['gnr_code'] == 'GN0900']"
      ],
      "execution_count": null,
      "outputs": []
    },
    {
      "cell_type": "code",
      "metadata": {
        "id": "6m7Yhr3dSFpn"
      },
      "source": [
        "song_meta = pd.read_json('song_meta.json',typ = 'frame')"
      ],
      "execution_count": null,
      "outputs": []
    },
    {
      "cell_type": "code",
      "metadata": {
        "id": "9a4jeAzcSZtW"
      },
      "source": [
        "song_meta"
      ],
      "execution_count": null,
      "outputs": []
    },
    {
      "cell_type": "markdown",
      "metadata": {
        "id": "8gEAWut7Szkx"
      },
      "source": [
        ""
      ]
    },
    {
      "cell_type": "code",
      "metadata": {
        "id": "x35Mj0UAS4nP"
      },
      "source": [
        "song_meta.info()"
      ],
      "execution_count": null,
      "outputs": []
    },
    {
      "cell_type": "code",
      "metadata": {
        "id": "lPZR11c_S5Cg"
      },
      "source": [
        "# extract id, big genre list\n",
        "song_gnr_map = song_meta.loc[:,[\"id\",\"song_gn_gnr_basket\"]]\n",
        "\n",
        "# match gen code and id 1 by 1 as array\n",
        "song_gnr_map_unnest = np.dstack(\n",
        "  (\n",
        "    # extract id, gen list length as array\n",
        "    # and repeat id as value of list\n",
        "    np.repeat(song_gnr_map.id.values, list(map(len, song_gnr_map.song_gn_gnr_basket))),\n",
        "    \n",
        "    # get gen lists as array and merge as one list (duplicate allowed)\n",
        "    np.concatenate(song_gnr_map.song_gn_gnr_basket.values)\n",
        "  )\n",
        ")"
      ],
      "execution_count": null,
      "outputs": []
    },
    {
      "cell_type": "code",
      "metadata": {
        "id": "fHsGdnexYgTZ"
      },
      "source": [
        "# make it dataframe\n",
        "song_gnr_map = pd.DataFrame(data = song_gnr_map_unnest[0], columns = song_gnr_map.columns)\n",
        "\n",
        "# change column names\n",
        "song_gnr_map['id'] = song_gnr_map['id'].astype(str)\n",
        "song_gnr_map.rename(columns = {'id' : 'song_id', 'song_gn_gnr_basket' : 'gnr_code'}, inplace = True)\n",
        "\n",
        "# remove unnest\n",
        "del song_gnr_map_unnest"
      ],
      "execution_count": null,
      "outputs": []
    },
    {
      "cell_type": "code",
      "metadata": {
        "id": "2d-Mepr1S5r-"
      },
      "source": [
        "song_gnr_count = song_gnr_map.groupby('song_id').gnr_code.nunique().reset_index(name = 'mapping_gnr_cnt')\n",
        "song_gnr_count"
      ],
      "execution_count": null,
      "outputs": []
    },
    {
      "cell_type": "code",
      "metadata": {
        "id": "ogI50OcOS53u"
      },
      "source": [
        "np.concatenate(song_gnr_map.song_gn_gnr_basket.values)"
      ],
      "execution_count": null,
      "outputs": []
    }
  ]
}