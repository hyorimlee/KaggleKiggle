{
 "cells": [
  {
   "cell_type": "code",
   "execution_count": 1,
   "metadata": {
    "_cell_guid": "b1076dfc-b9ad-4769-8c92-a6c4dae69d19",
    "_uuid": "8f2839f25d086af736a60e9eeb907d3b93b6e0e5",
    "execution": {
     "iopub.execute_input": "2021-03-12T12:54:22.361305Z",
     "iopub.status.busy": "2021-03-12T12:54:22.360543Z",
     "iopub.status.idle": "2021-03-12T12:54:22.372689Z",
     "shell.execute_reply": "2021-03-12T12:54:22.371778Z"
    },
    "papermill": {
     "duration": 0.032537,
     "end_time": "2021-03-12T12:54:22.373014",
     "exception": false,
     "start_time": "2021-03-12T12:54:22.340477",
     "status": "completed"
    },
    "tags": []
   },
   "outputs": [
    {
     "name": "stdout",
     "output_type": "stream",
     "text": [
      "/kaggle/input/bigquery-geotab-intersection-congestion/sample_submission.csv\n",
      "/kaggle/input/bigquery-geotab-intersection-congestion/submission_metric_map\n",
      "/kaggle/input/bigquery-geotab-intersection-congestion/submission_metric_map.json\n",
      "/kaggle/input/bigquery-geotab-intersection-congestion/train.csv\n",
      "/kaggle/input/bigquery-geotab-intersection-congestion/test.csv\n",
      "/kaggle/input/bigquery-geotab-intersection-congestion/BigQuery-Dataset-Access.md\n"
     ]
    }
   ],
   "source": [
    "# This Python 3 environment comes with many helpful analytics libraries installed\n",
    "# It is defined by the kaggle/python Docker image: https://github.com/kaggle/docker-python\n",
    "# For example, here's several helpful packages to load\n",
    "\n",
    "import numpy as np # linear algebra\n",
    "import pandas as pd # data processing, CSV file I/O (e.g. pd.read_csv)\n",
    "\n",
    "# Input data files are available in the read-only \"../input/\" directory\n",
    "# For example, running this (by clicking run or pressing Shift+Enter) will list all files under the input directory\n",
    "\n",
    "import os\n",
    "for dirname, _, filenames in os.walk('/kaggle/input'):\n",
    "    for filename in filenames:\n",
    "        print(os.path.join(dirname, filename))\n",
    "\n",
    "# You can write up to 20GB to the current directory (/kaggle/working/) that gets preserved as output when you create a version using \"Save & Run All\" \n",
    "# You can also write temporary files to /kaggle/temp/, but they won't be saved outside of the current session"
   ]
  },
  {
   "cell_type": "code",
   "execution_count": 2,
   "metadata": {
    "execution": {
     "iopub.execute_input": "2021-03-12T12:54:22.417030Z",
     "iopub.status.busy": "2021-03-12T12:54:22.416153Z",
     "iopub.status.idle": "2021-03-12T12:54:46.658994Z",
     "shell.execute_reply": "2021-03-12T12:54:46.659563Z"
    },
    "papermill": {
     "duration": 24.266209,
     "end_time": "2021-03-12T12:54:46.659767",
     "exception": false,
     "start_time": "2021-03-12T12:54:22.393558",
     "status": "completed"
    },
    "tags": []
   },
   "outputs": [],
   "source": [
    "train = pd.read_csv(\"/kaggle/input/bigquery-geotab-intersection-congestion/train.csv\")\n",
    "sample = pd.read_csv(\"/kaggle/input/bigquery-geotab-intersection-congestion/sample_submission.csv\")\n",
    "test = pd.read_csv(\"/kaggle/input/bigquery-geotab-intersection-congestion/test.csv\")"
   ]
  },
  {
   "cell_type": "code",
   "execution_count": 3,
   "metadata": {
    "execution": {
     "iopub.execute_input": "2021-03-12T12:54:46.695667Z",
     "iopub.status.busy": "2021-03-12T12:54:46.694697Z",
     "iopub.status.idle": "2021-03-12T12:54:46.864295Z",
     "shell.execute_reply": "2021-03-12T12:54:46.863619Z"
    },
    "papermill": {
     "duration": 0.189131,
     "end_time": "2021-03-12T12:54:46.864464",
     "exception": false,
     "start_time": "2021-03-12T12:54:46.675333",
     "status": "completed"
    },
    "tags": []
   },
   "outputs": [],
   "source": [
    "test_norowid = test.drop(\"RowId\",axis=1)"
   ]
  },
  {
   "cell_type": "code",
   "execution_count": 4,
   "metadata": {
    "execution": {
     "iopub.execute_input": "2021-03-12T12:54:46.990016Z",
     "iopub.status.busy": "2021-03-12T12:54:46.989265Z",
     "iopub.status.idle": "2021-03-12T12:54:47.571673Z",
     "shell.execute_reply": "2021-03-12T12:54:47.570601Z"
    },
    "papermill": {
     "duration": 0.69182,
     "end_time": "2021-03-12T12:54:47.571943",
     "exception": false,
     "start_time": "2021-03-12T12:54:46.880123",
     "status": "completed"
    },
    "tags": []
   },
   "outputs": [],
   "source": [
    "train = train.drop(train.loc[train['EntryStreetName'].isnull()].index)\n",
    "train = train.drop(train.loc[train['ExitStreetName'].isnull()].index)"
   ]
  },
  {
   "cell_type": "code",
   "execution_count": 5,
   "metadata": {
    "execution": {
     "iopub.execute_input": "2021-03-12T12:54:47.614510Z",
     "iopub.status.busy": "2021-03-12T12:54:47.613616Z",
     "iopub.status.idle": "2021-03-12T12:54:50.834760Z",
     "shell.execute_reply": "2021-03-12T12:54:50.834160Z"
    },
    "papermill": {
     "duration": 3.246696,
     "end_time": "2021-03-12T12:54:50.834960",
     "exception": false,
     "start_time": "2021-03-12T12:54:47.588264",
     "status": "completed"
    },
    "tags": []
   },
   "outputs": [
    {
     "data": {
      "text/html": [
       "<div>\n",
       "<style scoped>\n",
       "    .dataframe tbody tr th:only-of-type {\n",
       "        vertical-align: middle;\n",
       "    }\n",
       "\n",
       "    .dataframe tbody tr th {\n",
       "        vertical-align: top;\n",
       "    }\n",
       "\n",
       "    .dataframe thead th {\n",
       "        text-align: right;\n",
       "    }\n",
       "</style>\n",
       "<table border=\"1\" class=\"dataframe\">\n",
       "  <thead>\n",
       "    <tr style=\"text-align: right;\">\n",
       "      <th></th>\n",
       "      <th>EntryHeading</th>\n",
       "      <th>ExitHeading</th>\n",
       "    </tr>\n",
       "  </thead>\n",
       "  <tbody>\n",
       "    <tr>\n",
       "      <th>0</th>\n",
       "      <td>1</td>\n",
       "      <td>1</td>\n",
       "    </tr>\n",
       "    <tr>\n",
       "      <th>1</th>\n",
       "      <td>5</td>\n",
       "      <td>3</td>\n",
       "    </tr>\n",
       "    <tr>\n",
       "      <th>2</th>\n",
       "      <td>5</td>\n",
       "      <td>5</td>\n",
       "    </tr>\n",
       "    <tr>\n",
       "      <th>3</th>\n",
       "      <td>1</td>\n",
       "      <td>1</td>\n",
       "    </tr>\n",
       "    <tr>\n",
       "      <th>4</th>\n",
       "      <td>5</td>\n",
       "      <td>5</td>\n",
       "    </tr>\n",
       "    <tr>\n",
       "      <th>...</th>\n",
       "      <td>...</td>\n",
       "      <td>...</td>\n",
       "    </tr>\n",
       "    <tr>\n",
       "      <th>1921352</th>\n",
       "      <td>4</td>\n",
       "      <td>6</td>\n",
       "    </tr>\n",
       "    <tr>\n",
       "      <th>1921353</th>\n",
       "      <td>4</td>\n",
       "      <td>4</td>\n",
       "    </tr>\n",
       "    <tr>\n",
       "      <th>1921354</th>\n",
       "      <td>4</td>\n",
       "      <td>6</td>\n",
       "    </tr>\n",
       "    <tr>\n",
       "      <th>1921355</th>\n",
       "      <td>4</td>\n",
       "      <td>4</td>\n",
       "    </tr>\n",
       "    <tr>\n",
       "      <th>1921356</th>\n",
       "      <td>4</td>\n",
       "      <td>4</td>\n",
       "    </tr>\n",
       "  </tbody>\n",
       "</table>\n",
       "<p>1921357 rows × 2 columns</p>\n",
       "</div>"
      ],
      "text/plain": [
       "         EntryHeading  ExitHeading\n",
       "0                   1            1\n",
       "1                   5            3\n",
       "2                   5            5\n",
       "3                   1            1\n",
       "4                   5            5\n",
       "...               ...          ...\n",
       "1921352             4            6\n",
       "1921353             4            4\n",
       "1921354             4            6\n",
       "1921355             4            4\n",
       "1921356             4            4\n",
       "\n",
       "[1921357 rows x 2 columns]"
      ]
     },
     "execution_count": 5,
     "metadata": {},
     "output_type": "execute_result"
    }
   ],
   "source": [
    "map_head = {'N':0,'NE':1,'E':2,'SE':3,'S':4,'SW':5,'W':6,'NW':7}\n",
    "col_head = [\"EntryHeading\",\"ExitHeading\"]\n",
    "\n",
    "train_enc = train\n",
    "\n",
    "train_enc[col_head] = train[col_head].applymap(map_head.get)\n",
    "\n",
    "train_enc[col_head]\n",
    "\n",
    "test[col_head] = test[col_head].applymap(map_head.get)\n",
    "\n",
    "test[col_head]"
   ]
  },
  {
   "cell_type": "code",
   "execution_count": 6,
   "metadata": {
    "execution": {
     "iopub.execute_input": "2021-03-12T12:54:50.879393Z",
     "iopub.status.busy": "2021-03-12T12:54:50.878266Z",
     "iopub.status.idle": "2021-03-12T12:54:50.881956Z",
     "shell.execute_reply": "2021-03-12T12:54:50.882582Z"
    },
    "papermill": {
     "duration": 0.031311,
     "end_time": "2021-03-12T12:54:50.882811",
     "exception": false,
     "start_time": "2021-03-12T12:54:50.851500",
     "status": "completed"
    },
    "tags": []
   },
   "outputs": [],
   "source": [
    "address_encoding = {\n",
    "    \"Street\": 0,\n",
    "     \"St\": 0,\n",
    "     \"Avenue\": 1,\n",
    "     \"Ave\": 1,\n",
    "     \"Boulevard\": 2,\n",
    "     \"Road\": 3,\n",
    "     \"Drive\": 4,\n",
    "     \"Lane\": 5,\n",
    "     \"Tunnel\": 6,\n",
    "     \"Highway\": 7,\n",
    "     \"Way\": 8,\n",
    "     \"Parkway\": 9,\n",
    "     \"Parking\": 10,\n",
    "     \"Oval\": 11,\n",
    "     \"Square\": 12,\n",
    "     \"Place\": 13,\n",
    "     \"Bridge\": 14\n",
    "}\n",
    "\n",
    "def encode(x):\n",
    "    if pd.isna(x):\n",
    "        return None\n",
    "    for road in address_encoding:\n",
    "        if (road in x):\n",
    "            return address_encoding[road]\n",
    "    return None"
   ]
  },
  {
   "cell_type": "code",
   "execution_count": 7,
   "metadata": {
    "execution": {
     "iopub.execute_input": "2021-03-12T12:54:50.928292Z",
     "iopub.status.busy": "2021-03-12T12:54:50.927020Z",
     "iopub.status.idle": "2021-03-12T12:54:59.076552Z",
     "shell.execute_reply": "2021-03-12T12:54:59.074721Z"
    },
    "papermill": {
     "duration": 8.175897,
     "end_time": "2021-03-12T12:54:59.076741",
     "exception": false,
     "start_time": "2021-03-12T12:54:50.900844",
     "status": "completed"
    },
    "tags": []
   },
   "outputs": [],
   "source": [
    "train[\"EntryAdressEncoded\"] = train['EntryStreetName'].apply(encode)\n",
    "train['ExitAddressEncoded'] = train['ExitStreetName'].apply(encode)\n",
    "test[\"EntryAdressEncoded\"] = test['EntryStreetName'].apply(encode)\n",
    "test['ExitAddressEncoded'] = test['ExitStreetName'].apply(encode)"
   ]
  },
  {
   "cell_type": "code",
   "execution_count": 8,
   "metadata": {
    "execution": {
     "iopub.execute_input": "2021-03-12T12:54:59.119122Z",
     "iopub.status.busy": "2021-03-12T12:54:59.118377Z",
     "iopub.status.idle": "2021-03-12T12:55:07.561463Z",
     "shell.execute_reply": "2021-03-12T12:55:07.560779Z"
    },
    "papermill": {
     "duration": 8.466257,
     "end_time": "2021-03-12T12:55:07.561625",
     "exception": false,
     "start_time": "2021-03-12T12:54:59.095368",
     "status": "completed"
    },
    "tags": []
   },
   "outputs": [],
   "source": [
    "train['CoordEncoded'] = train['Latitude'].astype(str) + train['Longitude'].astype(str)\n",
    "train['CoordEncoded'] = train.groupby(['CoordEncoded']).ngroup()\n",
    "\n",
    "test['CoordEncoded'] = test['Latitude'].astype(str) + test['Longitude'].astype(str)\n",
    "test['CoordEncoded'] = test.groupby(['CoordEncoded']).ngroup()"
   ]
  },
  {
   "cell_type": "code",
   "execution_count": 9,
   "metadata": {
    "execution": {
     "iopub.execute_input": "2021-03-12T12:55:07.608576Z",
     "iopub.status.busy": "2021-03-12T12:55:07.607463Z",
     "iopub.status.idle": "2021-03-12T12:55:07.631060Z",
     "shell.execute_reply": "2021-03-12T12:55:07.630286Z"
    },
    "papermill": {
     "duration": 0.050841,
     "end_time": "2021-03-12T12:55:07.631233",
     "exception": false,
     "start_time": "2021-03-12T12:55:07.580392",
     "status": "completed"
    },
    "tags": []
   },
   "outputs": [
    {
     "data": {
      "text/plain": [
       "361     2437\n",
       "368     2364\n",
       "342     2206\n",
       "352     2124\n",
       "1605    2065\n",
       "        ... \n",
       "2347       1\n",
       "3367       1\n",
       "3024       1\n",
       "3193       1\n",
       "952        1\n",
       "Name: CoordEncoded, Length: 4801, dtype: int64"
      ]
     },
     "execution_count": 9,
     "metadata": {},
     "output_type": "execute_result"
    }
   ],
   "source": [
    "train['CoordEncoded'].value_counts()"
   ]
  },
  {
   "cell_type": "code",
   "execution_count": null,
   "metadata": {
    "papermill": {
     "duration": 0.017396,
     "end_time": "2021-03-12T12:55:07.666428",
     "exception": false,
     "start_time": "2021-03-12T12:55:07.649032",
     "status": "completed"
    },
    "tags": []
   },
   "outputs": [],
   "source": []
  },
  {
   "cell_type": "code",
   "execution_count": 10,
   "metadata": {
    "execution": {
     "iopub.execute_input": "2021-03-12T12:55:07.711979Z",
     "iopub.status.busy": "2021-03-12T12:55:07.710708Z",
     "iopub.status.idle": "2021-03-12T12:55:07.786792Z",
     "shell.execute_reply": "2021-03-12T12:55:07.786192Z"
    },
    "papermill": {
     "duration": 0.102824,
     "end_time": "2021-03-12T12:55:07.786966",
     "exception": false,
     "start_time": "2021-03-12T12:55:07.684142",
     "status": "completed"
    },
    "tags": []
   },
   "outputs": [
    {
     "data": {
      "text/plain": [
       "33.817665    1545\n",
       "42.339351     264\n",
       "39.937021     240\n",
       "41.875622      44\n",
       "Name: Latitude, dtype: int64"
      ]
     },
     "execution_count": 10,
     "metadata": {},
     "output_type": "execute_result"
    }
   ],
   "source": [
    "(train.loc[train[\"IntersectionId\"] == 4])[\"Latitude\"].value_counts()"
   ]
  },
  {
   "cell_type": "code",
   "execution_count": 11,
   "metadata": {
    "execution": {
     "iopub.execute_input": "2021-03-12T12:55:07.828770Z",
     "iopub.status.busy": "2021-03-12T12:55:07.828051Z",
     "iopub.status.idle": "2021-03-12T12:55:07.853582Z",
     "shell.execute_reply": "2021-03-12T12:55:07.854119Z"
    },
    "papermill": {
     "duration": 0.049697,
     "end_time": "2021-03-12T12:55:07.854343",
     "exception": false,
     "start_time": "2021-03-12T12:55:07.804646",
     "status": "completed"
    },
    "tags": []
   },
   "outputs": [
    {
     "data": {
      "text/plain": [
       "False    840907\n",
       "True       1545\n",
       "Name: Latitude, dtype: int64"
      ]
     },
     "execution_count": 11,
     "metadata": {},
     "output_type": "execute_result"
    }
   ],
   "source": [
    "(round(train[\"Latitude\"], 6) == 33.817665).value_counts()\n",
    "# train[\"Latitude\"].head()"
   ]
  },
  {
   "cell_type": "code",
   "execution_count": 12,
   "metadata": {
    "execution": {
     "iopub.execute_input": "2021-03-12T12:55:07.897808Z",
     "iopub.status.busy": "2021-03-12T12:55:07.896840Z",
     "iopub.status.idle": "2021-03-12T12:55:07.900963Z",
     "shell.execute_reply": "2021-03-12T12:55:07.901449Z"
    },
    "papermill": {
     "duration": 0.02912,
     "end_time": "2021-03-12T12:55:07.901656",
     "exception": false,
     "start_time": "2021-03-12T12:55:07.872536",
     "status": "completed"
    },
    "tags": []
   },
   "outputs": [],
   "source": [
    "train = train_enc"
   ]
  },
  {
   "cell_type": "code",
   "execution_count": 13,
   "metadata": {
    "execution": {
     "iopub.execute_input": "2021-03-12T12:55:07.994107Z",
     "iopub.status.busy": "2021-03-12T12:55:07.993262Z",
     "iopub.status.idle": "2021-03-12T12:55:07.996635Z",
     "shell.execute_reply": "2021-03-12T12:55:07.995569Z"
    },
    "papermill": {
     "duration": 0.074439,
     "end_time": "2021-03-12T12:55:07.996820",
     "exception": false,
     "start_time": "2021-03-12T12:55:07.922381",
     "status": "completed"
    },
    "tags": []
   },
   "outputs": [],
   "source": [
    "X=train[['CoordEncoded','EntryHeading','ExitHeading', 'Hour','Weekend']]\n",
    "Y=train[['TotalTimeStopped_p20','DistanceToFirstStop_p20','TotalTimeStopped_p50','DistanceToFirstStop_p50', 'TotalTimeStopped_p80','DistanceToFirstStop_p80']]"
   ]
  },
  {
   "cell_type": "code",
   "execution_count": 14,
   "metadata": {
    "execution": {
     "iopub.execute_input": "2021-03-12T12:55:08.042804Z",
     "iopub.status.busy": "2021-03-12T12:55:08.042138Z",
     "iopub.status.idle": "2021-03-12T12:55:09.615456Z",
     "shell.execute_reply": "2021-03-12T12:55:09.614696Z"
    },
    "papermill": {
     "duration": 1.598767,
     "end_time": "2021-03-12T12:55:09.615635",
     "exception": false,
     "start_time": "2021-03-12T12:55:08.016868",
     "status": "completed"
    },
    "tags": []
   },
   "outputs": [],
   "source": [
    "from sklearn.linear_model import LinearRegression\n",
    "from sklearn.model_selection import train_test_split\n",
    "from sklearn.metrics import mean_squared_error\n",
    "from sklearn import preprocessing\n",
    "\n",
    "\n",
    "X_train, X_validate, Y_train, Y_validate = train_test_split(X, Y, test_size = 0.2, random_state = 1)"
   ]
  },
  {
   "cell_type": "code",
   "execution_count": 15,
   "metadata": {
    "execution": {
     "iopub.execute_input": "2021-03-12T12:55:09.668289Z",
     "iopub.status.busy": "2021-03-12T12:55:09.666941Z",
     "iopub.status.idle": "2021-03-12T12:55:10.069113Z",
     "shell.execute_reply": "2021-03-12T12:55:10.068391Z"
    },
    "papermill": {
     "duration": 0.435008,
     "end_time": "2021-03-12T12:55:10.069276",
     "exception": false,
     "start_time": "2021-03-12T12:55:09.634268",
     "status": "completed"
    },
    "tags": []
   },
   "outputs": [
    {
     "data": {
      "text/plain": [
       "0.007866807653040597"
      ]
     },
     "execution_count": 15,
     "metadata": {},
     "output_type": "execute_result"
    }
   ],
   "source": [
    "model = LinearRegression()\n",
    "model.fit(X_train,Y_train)\n",
    "Y_pred = model.predict(X_validate)\n",
    "\n",
    "model.score(X_train,Y_train)"
   ]
  },
  {
   "cell_type": "code",
   "execution_count": 16,
   "metadata": {
    "execution": {
     "iopub.execute_input": "2021-03-12T12:55:10.114141Z",
     "iopub.status.busy": "2021-03-12T12:55:10.113158Z",
     "iopub.status.idle": "2021-03-12T12:55:10.117540Z",
     "shell.execute_reply": "2021-03-12T12:55:10.116835Z"
    },
    "papermill": {
     "duration": 0.029382,
     "end_time": "2021-03-12T12:55:10.117700",
     "exception": false,
     "start_time": "2021-03-12T12:55:10.088318",
     "status": "completed"
    },
    "tags": []
   },
   "outputs": [],
   "source": [
    "# import matplotlib.pyplot as plt\n",
    "\n",
    "# Y_hat = model.predict(X_train)\n",
    "# plt.scatter(Y_train,Y_hat,alpha = 0.2)\n",
    "# plt.xlabel('Targets (y_train)',size=18)\n",
    "# plt.ylabel('Predictions (y_hat)',size=18)\n",
    "# plt.show()"
   ]
  },
  {
   "cell_type": "code",
   "execution_count": 17,
   "metadata": {
    "execution": {
     "iopub.execute_input": "2021-03-12T12:55:10.169657Z",
     "iopub.status.busy": "2021-03-12T12:55:10.167986Z",
     "iopub.status.idle": "2021-03-12T12:55:10.557271Z",
     "shell.execute_reply": "2021-03-12T12:55:10.556524Z"
    },
    "papermill": {
     "duration": 0.420173,
     "end_time": "2021-03-12T12:55:10.557438",
     "exception": false,
     "start_time": "2021-03-12T12:55:10.137265",
     "status": "completed"
    },
    "tags": []
   },
   "outputs": [],
   "source": [
    "X_test = test[['CoordEncoded','EntryHeading','ExitHeading', 'Hour','Weekend']]\n",
    "Y_test = model.predict(X_test)"
   ]
  },
  {
   "cell_type": "code",
   "execution_count": 18,
   "metadata": {
    "execution": {
     "iopub.execute_input": "2021-03-12T12:55:10.608284Z",
     "iopub.status.busy": "2021-03-12T12:55:10.606813Z",
     "iopub.status.idle": "2021-03-12T12:55:13.555313Z",
     "shell.execute_reply": "2021-03-12T12:55:13.554594Z"
    },
    "papermill": {
     "duration": 2.977196,
     "end_time": "2021-03-12T12:55:13.555494",
     "exception": false,
     "start_time": "2021-03-12T12:55:10.578298",
     "status": "completed"
    },
    "tags": []
   },
   "outputs": [
    {
     "data": {
      "text/plain": [
       "0                0_\n",
       "1                1_\n",
       "2                2_\n",
       "3                3_\n",
       "4                4_\n",
       "             ...   \n",
       "1921352    1921352_\n",
       "1921353    1921353_\n",
       "1921354    1921354_\n",
       "1921355    1921355_\n",
       "1921356    1921356_\n",
       "Name: RowId, Length: 1921357, dtype: object"
      ]
     },
     "execution_count": 18,
     "metadata": {},
     "output_type": "execute_result"
    }
   ],
   "source": [
    "tid = test['RowId'].astype(str)+'_'\n",
    "tid"
   ]
  },
  {
   "cell_type": "code",
   "execution_count": 19,
   "metadata": {
    "execution": {
     "iopub.execute_input": "2021-03-12T12:55:13.621189Z",
     "iopub.status.busy": "2021-03-12T12:55:13.615238Z",
     "iopub.status.idle": "2021-03-12T12:55:21.548549Z",
     "shell.execute_reply": "2021-03-12T12:55:21.547945Z"
    },
    "papermill": {
     "duration": 7.970576,
     "end_time": "2021-03-12T12:55:21.548718",
     "exception": false,
     "start_time": "2021-03-12T12:55:13.578142",
     "status": "completed"
    },
    "tags": []
   },
   "outputs": [
    {
     "data": {
      "text/html": [
       "<div>\n",
       "<style scoped>\n",
       "    .dataframe tbody tr th:only-of-type {\n",
       "        vertical-align: middle;\n",
       "    }\n",
       "\n",
       "    .dataframe tbody tr th {\n",
       "        vertical-align: top;\n",
       "    }\n",
       "\n",
       "    .dataframe thead th {\n",
       "        text-align: right;\n",
       "    }\n",
       "</style>\n",
       "<table border=\"1\" class=\"dataframe\">\n",
       "  <thead>\n",
       "    <tr style=\"text-align: right;\">\n",
       "      <th></th>\n",
       "      <th>TargetId</th>\n",
       "    </tr>\n",
       "  </thead>\n",
       "  <tbody>\n",
       "    <tr>\n",
       "      <th>0</th>\n",
       "      <td>0_0</td>\n",
       "    </tr>\n",
       "    <tr>\n",
       "      <th>1</th>\n",
       "      <td>0_1</td>\n",
       "    </tr>\n",
       "    <tr>\n",
       "      <th>2</th>\n",
       "      <td>0_2</td>\n",
       "    </tr>\n",
       "    <tr>\n",
       "      <th>3</th>\n",
       "      <td>0_3</td>\n",
       "    </tr>\n",
       "    <tr>\n",
       "      <th>4</th>\n",
       "      <td>0_4</td>\n",
       "    </tr>\n",
       "    <tr>\n",
       "      <th>...</th>\n",
       "      <td>...</td>\n",
       "    </tr>\n",
       "    <tr>\n",
       "      <th>11522005</th>\n",
       "      <td>1920334_1</td>\n",
       "    </tr>\n",
       "    <tr>\n",
       "      <th>11522006</th>\n",
       "      <td>1920334_2</td>\n",
       "    </tr>\n",
       "    <tr>\n",
       "      <th>11522007</th>\n",
       "      <td>1920334_3</td>\n",
       "    </tr>\n",
       "    <tr>\n",
       "      <th>11522008</th>\n",
       "      <td>1920334_4</td>\n",
       "    </tr>\n",
       "    <tr>\n",
       "      <th>11522009</th>\n",
       "      <td>1920334_5</td>\n",
       "    </tr>\n",
       "  </tbody>\n",
       "</table>\n",
       "<p>11522010 rows × 1 columns</p>\n",
       "</div>"
      ],
      "text/plain": [
       "           TargetId\n",
       "0               0_0\n",
       "1               0_1\n",
       "2               0_2\n",
       "3               0_3\n",
       "4               0_4\n",
       "...             ...\n",
       "11522005  1920334_1\n",
       "11522006  1920334_2\n",
       "11522007  1920334_3\n",
       "11522008  1920334_4\n",
       "11522009  1920334_5\n",
       "\n",
       "[11522010 rows x 1 columns]"
      ]
     },
     "execution_count": 19,
     "metadata": {},
     "output_type": "execute_result"
    }
   ],
   "source": [
    "sub_model = pd.DataFrame()\n",
    "sub_id = []\n",
    "for i in tid:\n",
    "    if i==\"1920335_\":\n",
    "        break\n",
    "    sub_id.append(i+'0')\n",
    "    sub_id.append(i+'1')\n",
    "    sub_id.append(i+'2')\n",
    "    sub_id.append(i+'3')\n",
    "    sub_id.append(i+'4')\n",
    "    sub_id.append(i+'5')\n",
    "sub_model['TargetId'] = sub_id\n",
    "sub_model"
   ]
  },
  {
   "cell_type": "code",
   "execution_count": 20,
   "metadata": {
    "execution": {
     "iopub.execute_input": "2021-03-12T12:55:21.599553Z",
     "iopub.status.busy": "2021-03-12T12:55:21.598628Z",
     "iopub.status.idle": "2021-03-12T12:56:07.171671Z",
     "shell.execute_reply": "2021-03-12T12:56:07.171033Z"
    },
    "papermill": {
     "duration": 45.600926,
     "end_time": "2021-03-12T12:56:07.171831",
     "exception": false,
     "start_time": "2021-03-12T12:55:21.570905",
     "status": "completed"
    },
    "tags": []
   },
   "outputs": [],
   "source": [
    "Y_test = Y_test.flatten()\n",
    "np.transpose(Y_test)\n",
    "Y_test.shape,sub_model.shape\n",
    "\n",
    "Y_test=Y_test[:11522010,]\n",
    "sub_model['Target'] = Y_test\n",
    "sub_model.to_csv('linear_reg.csv',index=False)"
   ]
  },
  {
   "cell_type": "code",
   "execution_count": null,
   "metadata": {
    "papermill": {
     "duration": 0.02188,
     "end_time": "2021-03-12T12:56:07.216741",
     "exception": false,
     "start_time": "2021-03-12T12:56:07.194861",
     "status": "completed"
    },
    "tags": []
   },
   "outputs": [],
   "source": []
  },
  {
   "cell_type": "code",
   "execution_count": null,
   "metadata": {
    "papermill": {
     "duration": 0.022069,
     "end_time": "2021-03-12T12:56:07.260653",
     "exception": false,
     "start_time": "2021-03-12T12:56:07.238584",
     "status": "completed"
    },
    "tags": []
   },
   "outputs": [],
   "source": []
  },
  {
   "cell_type": "code",
   "execution_count": null,
   "metadata": {
    "papermill": {
     "duration": 0.021765,
     "end_time": "2021-03-12T12:56:07.304123",
     "exception": false,
     "start_time": "2021-03-12T12:56:07.282358",
     "status": "completed"
    },
    "tags": []
   },
   "outputs": [],
   "source": []
  }
 ],
 "metadata": {
  "kernelspec": {
   "display_name": "Python 3",
   "language": "python",
   "name": "python3"
  },
  "language_info": {
   "codemirror_mode": {
    "name": "ipython",
    "version": 3
   },
   "file_extension": ".py",
   "mimetype": "text/x-python",
   "name": "python",
   "nbconvert_exporter": "python",
   "pygments_lexer": "ipython3",
   "version": "3.7.9"
  },
  "papermill": {
   "default_parameters": {},
   "duration": 114.482243,
   "end_time": "2021-03-12T12:56:09.444300",
   "environment_variables": {},
   "exception": null,
   "input_path": "__notebook__.ipynb",
   "output_path": "__notebook__.ipynb",
   "parameters": {},
   "start_time": "2021-03-12T12:54:14.962057",
   "version": "2.2.2"
  }
 },
 "nbformat": 4,
 "nbformat_minor": 4
}
